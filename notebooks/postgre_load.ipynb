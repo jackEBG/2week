{
 "cells": [
  {
   "cell_type": "code",
   "execution_count": 1,
   "metadata": {},
   "outputs": [
    {
     "ename": "ModuleNotFoundError",
     "evalue": "No module named 'pandas'",
     "output_type": "error",
     "traceback": [
      "\u001b[1;31m---------------------------------------------------------------------------\u001b[0m",
      "\u001b[1;31mModuleNotFoundError\u001b[0m                       Traceback (most recent call last)",
      "Cell \u001b[1;32mIn[1], line 2\u001b[0m\n\u001b[0;32m      1\u001b[0m \u001b[38;5;66;03m# notebooks/example_notebook.ipynb\u001b[39;00m\n\u001b[1;32m----> 2\u001b[0m \u001b[38;5;28;01mimport\u001b[39;00m \u001b[38;5;21;01mpandas\u001b[39;00m \u001b[38;5;28;01mas\u001b[39;00m \u001b[38;5;21;01mpd\u001b[39;00m\n\u001b[0;32m      3\u001b[0m \u001b[38;5;28;01mimport\u001b[39;00m \u001b[38;5;21;01msys\u001b[39;00m\n\u001b[0;32m      4\u001b[0m \u001b[38;5;28;01mimport\u001b[39;00m \u001b[38;5;21;01mos\u001b[39;00m\n",
      "\u001b[1;31mModuleNotFoundError\u001b[0m: No module named 'pandas'"
     ]
    }
   ],
   "source": [
    "# notebooks/example_notebook.ipynb\n",
    "import pandas as pd\n",
    "import sys\n",
    "import os\n",
    "sys.path.append(os.path.abspath('./scripts'))\n"
   ]
  },
  {
   "cell_type": "code",
   "execution_count": null,
   "metadata": {},
   "outputs": [],
   "source": [
    "from load_data import load_data_from_postgres, load_data_using_sqlalchemy\n"
   ]
  },
  {
   "cell_type": "code",
   "execution_count": null,
   "metadata": {},
   "outputs": [],
   "source": [
    "# Define your SQL query\n",
    "query = \"SELECT * FROM xdr_data;\"  # Replace with your actual table name\n",
    "\n",
    "# Load data from PostgreSQL\n",
    "df = load_data_from_postgres(query)\n",
    "\n",
    "# Display the first few rows of the dataframe\n",
    "if df is not None:\n",
    "    print(\"Successfully loaded the data\")\n",
    "else:\n",
    "    print(\"Failed to load data.\")\n",
    "\n",
    "df\n",
    "df.dtypes\n",
    "df.isnull().any()\n",
    "df=df_filled_ffill = df.fillna(0)\n",
    "df"
   ]
  },
  {
   "cell_type": "code",
   "execution_count": null,
   "metadata": {},
   "outputs": [],
   "source": [
    "# Top 10 Handsets\n",
    "top_handsets = df['Handset Type'].value_counts().head(10)\n",
    "#Top 3 Handset Manufacturers\n",
    "top_manufacturers = df['Handset Manufacturer'].value_counts().head(3)\n",
    "\n",
    "#  Top 5 Handsets per Top 3 Handset Manufacturer\n",
    "top_handsets_per_manufacturer = {}\n",
    "for manufacturer in top_manufacturers.index:\n",
    "    handsets = df[df['Handset Manufacturer'] == manufacturer]['Handset Type'].value_counts().head(5)\n",
    "    top_handsets_per_manufacturer[manufacturer] = handsets\n",
    "\n",
    "    # Display Results\n",
    "print(\"Top 10 Handsets Used by Customers:\\n\", top_handsets)\n",
    "print(\"\\nTop 3 Handset Manufacturers:\\n\", top_manufacturers)\n",
    "print(\"\\nTop 5 Handsets per Top 3 Handset Manufacturer:\")\n",
    "for manufacturer, handsets in top_handsets_per_manufacturer.items():\n",
    "    print(f\"\\n{manufacturer}:\\n{handsets}\")\n",
    "\n",
    "# Interpretation and Recommendations\n",
    "print(\"\\nInterpretation and Recommendations:\")\n",
    "print(\"1. Samsung is the leading manufacturer with a diverse range of handsets.\")\n",
    "print(\"2. Consider marketing campaigns focused on the top models identified.\")\n",
    "print(\"3. Investigate the 'undefined' category for better data quality.\")\n",
    "print(\"4. Monitor trends and adjust strategies based on customer preferences.\")\n",
    "\n",
    "\n",
    "\n",
    "#data selction\n",
    "query = \"SELECT Bearer Id,Session Duration,Social Media DL,Social Media UL,Google DL,Google UL,Email DL,Email UL,YouTube DL,YouTube UL,Netflix DL,Netflix UL,Gaming DL,Gaming UL,Other DL,Other UL FROM xdr_data;\"\n",
    "df = df = load_data_using_sqlalchemy(query)\n",
    "\n",
    "try:\n",
    "    df = pd.read_sql(query, engine)\n",
    "    print(\"Data loaded successfully!\")\n",
    "    print(df.head())  # Display the first few rows of the DataFrame\n",
    "except Exception as e:\n",
    "    print(f\"An error occurred: {e}\")\n"
   ]
  },
  {
   "cell_type": "code",
   "execution_count": null,
   "metadata": {},
   "outputs": [],
   "source": [
    "data = {\n",
    "    'Bearer Id',\n",
    "    'Session Duration',\n",
    "    'Social Media DL',\n",
    "    'Social Media UL',\n",
    "    'Google DL',\n",
    "    'Google UL',\n",
    "    'Email DL',\n",
    "    'Email UL',\n",
    "    'YouTube DL',\n",
    "    'YouTube UL',\n",
    "    'Netflix DL',\n",
    "    'Netflix UL',\n",
    "    'Gaming DL',\n",
    "    'Gaming UL',\n",
    "    'Other DL',\n",
    "    'Other UL',\n",
    "}\n",
    "\n",
    "df = pd.DataFrame(data)"
   ]
  },
  {
   "cell_type": "code",
   "execution_count": null,
   "metadata": {},
   "outputs": [],
   "source": [
    "# Check existing columns\n",
    "print(\"Current columns in DataFrame:\", df.columns.tolist())\n",
    "\n",
    "# Adjust the aggregation code to use the correct existing column names\n",
    "try:\n",
    "    aggregated_data = df.groupby('Bearer Id').agg(\n",
    "        Number_of_Sessions=('Bearer Id', 'size'),\n",
    "        Total_Session_Duration=('Session Duration (ms)', 'sum'),\n",
    "        Total_Social_Media_DL=('Social Media DL (Bytes)', 'sum'),\n",
    "        Total_Social_Media_UL=('Social Media UL (Bytes)', 'sum'),\n",
    "        Total_Google_DL=('Google DL (Bytes)', 'sum'),\n",
    "        Total_Google_UL=('Google UL (Bytes)', 'sum'),\n",
    "        Total_Email_DL=('Email DL (Bytes)', 'sum'),\n",
    "        Total_Email_UL=('Email UL (Bytes)', 'sum'),\n",
    "        Total_YouTube_DL=('YouTube DL (Bytes)', 'sum'),\n",
    "        Total_YouTube_UL=('YouTube UL (Bytes)', 'sum'),\n",
    "        Total_Netflix_DL=('Netflix DL (Bytes)', 'sum'),\n",
    "        Total_Netflix_UL=('Netflix UL (Bytes)', 'sum'),\n",
    "        Total_Gaming_DL=('Gaming DL (Bytes)', 'sum'),\n",
    "        Total_Gaming_UL=('Gaming UL (Bytes)', 'sum'),\n",
    "        #Total_Other_DL=('Other DL (Bytes)', 'sum'),\n",
    "        #Total_Other_UL=('Other UL (Bytes)', 'sum'),\n",
    "    ).reset_index()\n",
    "    \n",
    "    print(aggregated_data)\n",
    "except KeyError as e:\n",
    "    print(f\"KeyError: {e}. Please check the column names.\")\n",
    "\n",
    "\n"
   ]
  },
  {
   "cell_type": "code",
   "execution_count": null,
   "metadata": {},
   "outputs": [],
   "source": []
  }
 ],
 "metadata": {
  "kernelspec": {
   "display_name": ".venv",
   "language": "python",
   "name": "python3"
  },
  "language_info": {
   "codemirror_mode": {
    "name": "ipython",
    "version": 3
   },
   "file_extension": ".py",
   "mimetype": "text/x-python",
   "name": "python",
   "nbconvert_exporter": "python",
   "pygments_lexer": "ipython3",
   "version": "3.10.8"
  }
 },
 "nbformat": 4,
 "nbformat_minor": 2
}
